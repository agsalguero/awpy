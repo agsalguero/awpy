{
 "cells": [
  {
   "cell_type": "markdown",
   "metadata": {},
   "source": [
    "# Parsing a CSGO demofile¶\n",
    "##### Last Updated: June 20, 2023\n",
    "\n",
    "The awpy package allows for the parsing of CSGO demofiles into JSON or tabular format, which makes for easy analysis. To install the package, clone the Github repository, navigate to the root directory and run `python setup.py install`. Make sure you have installed at least [Golang](https://golang.org/) version 1.17. Please see expanded documentation [here](https://github.com/pnxenopoulos/csgo/tree/main/csgo/docs).\n",
    "\n",
    "##### What is a demofile?\n",
    "Each CSGO match typically generates recordings of the game called a demofile. Every map in a match will generate its own demofile. This demofile contains a serialization of the data transferred between the host (game server) and its clients (players). Data transferred to and from the server occurs at a predefined tick rate, which defines when client inputs are resolved with the server. For professional games, the server tick rate is usually 128 ticks per second, meaning each tick represents around 7.8 milliseconds. Client inputs represent player actions, such as movement, attacks or grenade throws. Non-client events also register in the demofile, such as round starts and ends.\n",
    "\n",
    "Since CSGO demofiles are essentially data transferred between the clients and the game server, the data is simply stored as a text of sequential set of events with no contextual information, such as round or map location. Thus, due to the highly unstructured nature of these low level CSGO data streams, akin to log files, performing any complex analytic tasks becomes impossible without modeling this data formally into a useful data structure. The awpy package addresses this need.\n",
    "\n",
    "##### How do I get demofiles?¶\n",
    "One of the most common ways to obtain demofiles is through the site [HLTV](https://hltv.org). If you navigate to a match page, an hour or so after the match has concluded, it will often contain a link to the demofiles for that match. The link is a `.rar` compressed directory containing a demo for each map in the match."
   ]
  },
  {
   "cell_type": "markdown",
   "metadata": {},
   "source": [
    "# Initializing the parser\n",
    "Let's consider the demo from a match between OG and Natus Vincere (NaVi), which we can [download from HLTV](https://www.hltv.org/matches/2344822/og-vs-natus-vincere-blast-premier-fall-series-2020). If we download the compressed demofile directory (a few hundred MB), there are three files:\n",
    "\n",
    "- `og-vs-natus-vincere-m1-dust2.dem`\n",
    "- `og-vs-natus-vincere-m2-mirage.dem`\n",
    "- `og-vs-natus-vincere-m3-inferno.dem`\n",
    "\n",
    "In order to parse one of the demofiles, you have to instantiate a DemoParser object and pass it the path to the demofile. The parser can automatically infer a `demo_id` from the filename, but you can also specify one using the argument. This name is use to title the JSON output file from the parser. We will use a `demo_id` of `OG-NaVi-BLAST2020`. \n",
    "\n",
    "There are a few numeric arguments to specify as one. The primary one is the `parse_rate`, or, how often do we want to parse a frame? This does _not_ affect how often we parse events, like kills or damages, only player positioning. Setting a parse rate of 1 means we are acquiring every frame (this is _very_ slow). Usually, 128 or 64 will work, depending on the tick rate of the demo. You can also specify the trade time (how many seconds inbetween trades) using the `trade_time` argument. Usually, a few seconds is good -- the default is 5. Finally, you can specify the round buy style (either \"csgo\" or \"hltv\", default is \"hltv\"). This argument changes the string for the round buy type output.\n",
    "\n",
    "The parser writes to disk a file named `demoId.json`."
   ]
  },
  {
   "cell_type": "code",
   "execution_count": 1,
   "metadata": {
    "ExecuteTime": {
     "end_time": "2023-06-20T18:57:10.929463300Z",
     "start_time": "2023-06-20T18:56:55.151737100Z"
    }
   },
   "outputs": [],
   "source": [
    "from awpy.parser import DemoParser\n",
    "\n",
    "# Create parser object\n",
    "# Set log=True above if you want to produce a logfile for the parser\n",
    "demo_parser = DemoParser(\n",
    "    demofile = \"og-vs-natus-vincere-m1-dust2.dem\", \n",
    "    demo_id = \"OG-NaVi-BLAST2020\", \n",
    "    parse_rate=128, \n",
    "    trade_time=5, \n",
    "    buy_style=\"hltv\"\n",
    ")\n",
    "\n",
    "\n",
    "# Parse the demofile, output results to dictionary\n",
    "data = demo_parser.parse()"
   ]
  },
  {
   "cell_type": "markdown",
   "metadata": {},
   "source": [
    "# Accessing the parsed data\n",
    "Next, we can access our parsed data. The default data output is the JSON-like format of a Python dictionary. We describe the structure in the [documentation](https://github.com/pnxenopoulos/csgo/tree/main/csgo/docs). We show the results in the following cells."
   ]
  },
  {
   "cell_type": "code",
   "execution_count": 2,
   "metadata": {
    "ExecuteTime": {
     "end_time": "2023-06-20T18:57:10.933956600Z",
     "start_time": "2023-06-20T18:57:10.930401100Z"
    }
   },
   "outputs": [
    {
     "name": "stdout",
     "output_type": "stream",
     "text": [
      "matchID: OG-NaVi-BLAST2020\n",
      "clientName: GOTV Demo\n",
      "mapName: de_dust2\n",
      "tickRate: 128\n",
      "playbackTicks: 466670\n",
      "playbackFramesCount: 466095\n",
      "parsedToFrameIdx: 466110\n",
      "parserParameters: {'parseRate': 128, 'parseFrames': True, 'parseKillFrames': False, 'tradeTime': 5, 'roundBuyStyle': 'hltv', 'damagesRolledUp': False, 'parseChat': False}\n",
      "serverVars: {'cashBombDefused': 0, 'cashBombPlanted': 0, 'cashTeamTWinBomb': 0, 'cashWinDefuse': 3500, 'cashWinTimeRunOut': 0, 'cashWinElimination': 0, 'cashPlayerKilledDefault': 0, 'cashTeamLoserBonus': 0, 'cashTeamLoserBonusConsecutive': 0, 'roundTime': 0, 'roundTimeDefuse': 2, 'roundRestartDelay': 5, 'freezeTime': 20, 'buyTime': 20, 'bombTimer': 0, 'maxRounds': 30, 'timeoutsAllowed': 4, 'coachingAllowed': 1}\n",
      "matchPhases: {'announcementLastRoundHalf': [239899], 'announcementFinalRound': [], 'announcementMatchStarted': [], 'roundStarted': [890, 7167, 9177, 9308, 43817, 60608, 73511, 84662, 100420, 118340, 135431, 153351, 169400, 181861, 192298, 209674, 227594, 239899, 259186, 294862, 318686, 339215, 346620, 363966, 389948, 410601, 429300, 441487], 'roundEnded': [6782, 43177, 59967, 72870, 84021, 99779, 117700, 134791, 152711, 168760, 181220, 191658, 209035, 226954, 239259, 257266, 294222, 318046, 338574, 345980, 363326, 389308, 409961, 428659, 440847, 458546], 'roundFreezetimeEnded': [3449, 7422, 37043, 46377, 63168, 76071, 87222, 102980, 120900, 137991, 155911, 171960, 184421, 194858, 212234, 230154, 242459, 284731, 302843, 321246, 341775, 349180, 371281, 392508, 418300, 431860, 448917, 458546], 'roundEndedOfficial': [43817, 60608, 73511, 84662, 100420, 118340, 135431, 153351, 169400, 181861, 192298, 209674, 227594, 239899, 259186, 294862, 318686, 339215, 346620, 363966, 389948, 410601, 429300, 441487], 'gameHalfEnded': [257266], 'matchStart': [890, 9313], 'matchStartedChanged': [0, 890, 9184, 9313, 458546], 'warmupChanged': [0, 890, 7167, 9177], 'teamSwitch': [259186]}\n",
      "matchmakingRanks: []\n",
      "chatMessages: []\n",
      "playerConnections: [{'tick': 0, 'action': 'connect', 'steamID': 76561198045818736}, {'tick': 0, 'action': 'connect', 'steamID': 76561198045695357}, {'tick': 0, 'action': 'connect', 'steamID': 76561198037812456}, {'tick': 0, 'action': 'connect', 'steamID': 76561198146207066}, {'tick': 0, 'action': 'connect', 'steamID': 76561198114929868}, {'tick': 0, 'action': 'connect', 'steamID': 76561198044045107}, {'tick': 0, 'action': 'connect', 'steamID': 76561197960710573}, {'tick': 0, 'action': 'connect', 'steamID': 76561198116523276}, {'tick': 0, 'action': 'connect', 'steamID': 76561198013243326}, {'tick': 0, 'action': 'connect', 'steamID': 76561198016432560}, {'tick': 0, 'action': 'connect', 'steamID': 76561198121220486}, {'tick': 0, 'action': 'connect', 'steamID': 76561198034202275}, {'tick': 4114, 'action': 'connect', 'steamID': 76561198013523865}, {'tick': 458762, 'action': 'disconnect', 'steamID': 76561198121220486}, {'tick': 458894, 'action': 'disconnect', 'steamID': 76561198034202275}, {'tick': 459088, 'action': 'disconnect', 'steamID': 76561198037812456}, {'tick': 459128, 'action': 'disconnect', 'steamID': 76561198114929868}, {'tick': 459271, 'action': 'disconnect', 'steamID': 76561197960710573}, {'tick': 459300, 'action': 'disconnect', 'steamID': 76561198013243326}, {'tick': 459982, 'action': 'disconnect', 'steamID': 76561198016432560}, {'tick': 460307, 'action': 'disconnect', 'steamID': 76561198146207066}, {'tick': 461423, 'action': 'disconnect', 'steamID': 76561198044045107}, {'tick': 463855, 'action': 'disconnect', 'steamID': 76561198045818736}, {'tick': 463855, 'action': 'disconnect', 'steamID': 76561198045695357}, {'tick': 463855, 'action': 'disconnect', 'steamID': 76561198116523276}, {'tick': 463855, 'action': 'disconnect', 'steamID': 76561198013523865}]\n"
     ]
    }
   ],
   "source": [
    "for k in data:\n",
    "    if k != \"gameRounds\":\n",
    "        print(k + \": \" + str(data[k]))"
   ]
  },
  {
   "cell_type": "markdown",
   "metadata": {},
   "source": [
    "## Event Data\n",
    "The parser contains data on kills, damages, grenades, bomb events, weapon fires and flashes, which we show below, in order."
   ]
  },
  {
   "cell_type": "code",
   "execution_count": 3,
   "metadata": {
    "ExecuteTime": {
     "end_time": "2023-06-20T18:57:10.938848600Z",
     "start_time": "2023-06-20T18:57:10.934914400Z"
    }
   },
   "outputs": [
    {
     "name": "stdout",
     "output_type": "stream",
     "text": [
      "tick: 147660\n",
      "seconds: 75.5390625\n",
      "clockTime: 00:40\n",
      "attackerSteamID: 76561198013243326\n",
      "attackerName: Aleksib\n",
      "attackerTeam: OGEsports\n",
      "attackerSide: CT\n",
      "attackerX: -1666.5416259765625\n",
      "attackerY: 2220.43798828125\n",
      "attackerZ: -3.0230464935302734\n",
      "attackerViewX: 357.8961181640625\n",
      "attackerViewY: 3.4881591796875\n",
      "victimSteamID: 76561198146207066\n",
      "victimName: Boombl4\n",
      "victimTeam: Natus Vincere\n",
      "victimSide: T\n",
      "victimX: 179.58131408691406\n",
      "victimY: 2156.62890625\n",
      "victimZ: -127.86104583740234\n",
      "victimViewX: 184.493408203125\n",
      "victimViewY: 356.81396484375\n",
      "assisterSteamID: None\n",
      "assisterName: None\n",
      "assisterTeam: None\n",
      "assisterSide: None\n",
      "isSuicide: False\n",
      "isTeamkill: False\n",
      "isWallbang: False\n",
      "penetratedObjects: 0\n",
      "isFirstKill: True\n",
      "isHeadshot: True\n",
      "victimBlinded: False\n",
      "attackerBlinded: False\n",
      "flashThrowerSteamID: None\n",
      "flashThrowerName: None\n",
      "flashThrowerTeam: None\n",
      "flashThrowerSide: None\n",
      "noScope: False\n",
      "thruSmoke: False\n",
      "distance: 1851.4389092968922\n",
      "isTrade: False\n",
      "playerTradedName: None\n",
      "playerTradedTeam: None\n",
      "playerTradedSteamID: None\n",
      "playerTradedSide: None\n",
      "weapon: Desert Eagle\n",
      "weaponClass: Pistols\n"
     ]
    }
   ],
   "source": [
    "for k in data[\"gameRounds\"][7][\"kills\"][0]:\n",
    "        print(k + \": \" + str(data[\"gameRounds\"][7][\"kills\"][0][k]))"
   ]
  },
  {
   "cell_type": "code",
   "execution_count": 4,
   "metadata": {
    "ExecuteTime": {
     "end_time": "2023-06-20T18:57:10.945082300Z",
     "start_time": "2023-06-20T18:57:10.941842400Z"
    }
   },
   "outputs": [
    {
     "name": "stdout",
     "output_type": "stream",
     "text": [
      "tick: 139558\n",
      "seconds: 12.2421875\n",
      "clockTime: 01:43\n",
      "attackerSteamID: 76561197960710573\n",
      "attackerName: NBK-\n",
      "attackerTeam: OGEsports\n",
      "attackerSide: CT\n",
      "attackerX: 1293.0718994140625\n",
      "attackerY: 671.2274169921875\n",
      "attackerZ: -30.118175506591797\n",
      "attackerViewX: 166.0528564453125\n",
      "attackerViewY: 357.703857421875\n",
      "attackerStrafe: False\n",
      "victimSteamID: 76561198116523276\n",
      "victimName: flamie\n",
      "victimTeam: Natus Vincere\n",
      "victimSide: T\n",
      "victimX: 639.7489624023438\n",
      "victimY: 516.0263061523438\n",
      "victimZ: -1.3177638053894043\n",
      "victimViewX: 290.8245849609375\n",
      "victimViewY: 5.240478515625\n",
      "weapon: Incendiary Grenade\n",
      "weaponClass: Grenade\n",
      "hpDamage: 1\n",
      "hpDamageTaken: 1\n",
      "armorDamage: 0\n",
      "armorDamageTaken: 0\n",
      "hitGroup: Generic\n",
      "isFriendlyFire: False\n",
      "distance: 672.1217959162599\n",
      "zoomLevel: 0\n"
     ]
    }
   ],
   "source": [
    "for k in data[\"gameRounds\"][7][\"damages\"][0]:\n",
    "        print(k + \": \" + str(data[\"gameRounds\"][7][\"damages\"][0][k]))"
   ]
  },
  {
   "cell_type": "code",
   "execution_count": 5,
   "metadata": {
    "ExecuteTime": {
     "end_time": "2023-06-20T18:57:10.951611100Z",
     "start_time": "2023-06-20T18:57:10.948085100Z"
    }
   },
   "outputs": [
    {
     "name": "stdout",
     "output_type": "stream",
     "text": [
      "throwTick: 138098\n",
      "destroyTick: 140655\n",
      "throwSeconds: 0.8359375\n",
      "throwClockTime: 01:55\n",
      "destroySeconds: 20.8125\n",
      "destroyClockTime: 01:35\n",
      "throwerSteamID: 76561198016432560\n",
      "throwerName: mantuu\n",
      "throwerTeam: OGEsports\n",
      "throwerSide: CT\n",
      "throwerX: 185.5625\n",
      "throwerY: 2329.4375\n",
      "throwerZ: -55.0625\n",
      "grenadeType: Smoke Grenade\n",
      "grenadeX: -370.4375\n",
      "grenadeY: 2254.0625\n",
      "grenadeZ: -119\n",
      "entityId: 3000740076100106509\n"
     ]
    }
   ],
   "source": [
    "for k in data[\"gameRounds\"][7][\"grenades\"][0]:\n",
    "        print(k + \": \" + str(data[\"gameRounds\"][7][\"grenades\"][0][k]))"
   ]
  },
  {
   "cell_type": "code",
   "execution_count": 6,
   "metadata": {
    "ExecuteTime": {
     "end_time": "2023-06-20T18:57:10.957333700Z",
     "start_time": "2023-06-20T18:57:10.954812400Z"
    }
   },
   "outputs": [
    {
     "name": "stdout",
     "output_type": "stream",
     "text": [
      "tick: 129153\n",
      "seconds: 64.4765625\n",
      "clockTime: 00:51\n",
      "playerSteamID: 76561198034202275\n",
      "playerName: s1mple\n",
      "playerTeam: Natus Vincere\n",
      "playerX: 1089.201904296875\n",
      "playerY: 2489.580810546875\n",
      "playerZ: 96.02377319335938\n",
      "bombAction: plant_begin\n",
      "bombSite: A\n"
     ]
    }
   ],
   "source": [
    "for k in data[\"gameRounds\"][6][\"bombEvents\"][0]:\n",
    "        print(k + \": \" + str(data[\"gameRounds\"][6][\"bombEvents\"][0][k]))"
   ]
  },
  {
   "cell_type": "code",
   "execution_count": 7,
   "metadata": {
    "ExecuteTime": {
     "end_time": "2023-06-20T18:57:11.044908600Z",
     "start_time": "2023-06-20T18:57:10.960475100Z"
    }
   },
   "outputs": [
    {
     "name": "stdout",
     "output_type": "stream",
     "text": [
      "tick: 147660\n",
      "seconds: 75.5390625\n",
      "clockTime: 00:40\n",
      "playerSteamID: 76561198013243326\n",
      "playerName: Aleksib\n",
      "playerTeam: OGEsports\n",
      "playerSide: CT\n",
      "playerX: -1666.5416259765625\n",
      "playerY: 2220.43798828125\n",
      "playerZ: -3.0230464935302734\n",
      "playerViewX: 357.8961181640625\n",
      "playerViewY: 3.4881591796875\n",
      "playerStrafe: False\n",
      "weapon: Desert Eagle\n",
      "weaponClass: Pistols\n",
      "ammoInMagazine: 6\n",
      "ammoInReserve: 35\n",
      "zoomLevel: 0\n"
     ]
    }
   ],
   "source": [
    "for k in data[\"gameRounds\"][7][\"weaponFires\"][0]:\n",
    "        print(k + \": \" + str(data[\"gameRounds\"][7][\"weaponFires\"][30][k]))"
   ]
  },
  {
   "cell_type": "code",
   "execution_count": 8,
   "metadata": {
    "ExecuteTime": {
     "end_time": "2023-06-20T18:57:11.083168900Z",
     "start_time": "2023-06-20T18:57:10.964990300Z"
    }
   },
   "outputs": [
    {
     "name": "stdout",
     "output_type": "stream",
     "text": [
      "tick: 138864\n",
      "seconds: 6.8203125\n",
      "clockTime: 01:49\n",
      "attackerSteamID: 76561198116523276\n",
      "attackerName: flamie\n",
      "attackerTeam: Natus Vincere\n",
      "attackerSide: T\n",
      "attackerX: 607.80712890625\n",
      "attackerY: 247.66790771484375\n",
      "attackerZ: 0.42551231384277344\n",
      "attackerViewX: 76.9317626953125\n",
      "attackerViewY: 4.4659423828125\n",
      "playerSteamID: 76561198037812456\n",
      "playerName: ISSAA\n",
      "playerTeam: OGEsports\n",
      "playerSide: CT\n",
      "playerX: 1482.4324951171875\n",
      "playerY: 1590.5972900390625\n",
      "playerZ: 56.256004333496094\n",
      "playerViewX: 42.2589111328125\n",
      "playerViewY: 16.5069580078125\n",
      "flashDuration: 0.63357888\n"
     ]
    }
   ],
   "source": [
    "for k in data[\"gameRounds\"][7][\"flashes\"][0].keys():\n",
    "        print(k + \": \" + str(data[\"gameRounds\"][7][\"flashes\"][0][k]))"
   ]
  },
  {
   "cell_type": "code",
   "execution_count": 9,
   "outputs": [
    {
     "name": "stdout",
     "output_type": "stream",
     "text": [
      "0: mantuu (MVPReasonMostEliminations)\n",
      "1: Boombl4 (MVPReasonMostEliminations)\n",
      "2: Boombl4 (MVPReasonMostEliminations)\n",
      "3: s1mple (MVPReasonMostEliminations)\n",
      "4: mantuu (MVPReasonMostEliminations)\n",
      "5: Aleksib (MVPReasonMostEliminations)\n",
      "6: s1mple (MVPReasonMostEliminations)\n",
      "7: NBK- (MVPReasonMostEliminations)\n",
      "8: NBK- (MVPReasonMostEliminations)\n",
      "9: mantuu (MVPReasonMostEliminations)\n",
      "10: mantuu (MVPReasonMostEliminations)\n",
      "11: ISSAA (MVPReasonMostEliminations)\n",
      "12: Aleksib (MVPReasonMostEliminations)\n",
      "13: s1mple (MVPReasonMostEliminations)\n",
      "14: Boombl4 (MVPReasonMostEliminations)\n",
      "15: electronic (MVPReasonMostEliminations)\n",
      "16: mantuu (MVPReasonMostEliminations)\n",
      "17: NBK- (MVPReasonMostEliminations)\n",
      "18: NBK- (MVPReasonMostEliminations)\n",
      "19: Aleksib (MVPReasonMostEliminations)\n",
      "20: mantuu (MVPReasonMostEliminations)\n",
      "21: Boombl4 (MVPReasonMostEliminations)\n",
      "22: Boombl4 (MVPReasonMostEliminations)\n",
      "23: ISSAA (MVPReasonMostEliminations)\n",
      "24: valde (MVPReasonMostEliminations)\n"
     ]
    }
   ],
   "source": [
    "for i in range(len(data[\"gameRounds\"])):\n",
    "    print(str(i) + \": \" + data[\"gameRounds\"][i][\"MVPName\"] + \" (\" + data[\"gameRounds\"][7][\"MVPReason\"] + \")\")"
   ],
   "metadata": {
    "collapsed": false,
    "ExecuteTime": {
     "end_time": "2023-06-20T18:57:11.084169700Z",
     "start_time": "2023-06-20T18:57:10.967887900Z"
    }
   }
  },
  {
   "cell_type": "markdown",
   "metadata": {},
   "source": [
    "## Event Data as DataFrames\n",
    "\n",
    "We can also parse the data into dataframes."
   ]
  },
  {
   "cell_type": "code",
   "execution_count": 10,
   "metadata": {
    "ExecuteTime": {
     "end_time": "2023-06-20T18:57:26.603916400Z",
     "start_time": "2023-06-20T18:57:10.973263100Z"
    }
   },
   "outputs": [
    {
     "data": {
      "text/plain": "dict_keys(['matchID', 'clientName', 'mapName', 'tickRate', 'playbackTicks', 'rounds', 'kills', 'damages', 'grenades', 'flashes', 'weaponFires', 'bombEvents', 'frames', 'playerFrames'])"
     },
     "execution_count": 10,
     "metadata": {},
     "output_type": "execute_result"
    }
   ],
   "source": [
    "df = demo_parser.parse(return_type=\"df\")\n",
    "df.keys()"
   ]
  },
  {
   "cell_type": "code",
   "execution_count": 11,
   "metadata": {
    "ExecuteTime": {
     "end_time": "2023-06-20T18:57:26.671372600Z",
     "start_time": "2023-06-20T18:57:26.602215900Z"
    }
   },
   "outputs": [
    {
     "data": {
      "text/plain": "       tick    seconds clockTime    attackerSteamID attackerName  \\\n0     39106  16.117188     01:39  76561198016432560       mantuu   \n1     39549  19.578125     01:36  76561198037812456        ISSAA   \n2     39632  20.226562     01:35  76561198016432560       mantuu   \n3     39696  20.726562     01:35  76561198116523276       flamie   \n4     40045  23.453125     01:32  76561198016432560       mantuu   \n..      ...        ...       ...                ...          ...   \n158  456139   4.148438     00:36  76561198044045107   electronic   \n159  458062  19.171875     00:21  76561198114929868        valde   \n160  458223  20.429688     00:20  76561198114929868        valde   \n161  458294  20.984375     00:20  76561198044045107   electronic   \n162  458546  22.953125     00:18  76561197960710573         NBK-   \n\n      attackerTeam attackerSide    attackerX    attackerY   attackerZ  ...  \\\n0        OGEsports           CT  -294.155731   626.777832    1.016636  ...   \n1        OGEsports           CT -1845.398804  2719.539307   32.390869  ...   \n2        OGEsports           CT  -171.508743   761.183167    2.132068  ...   \n3    Natus Vincere            T  -604.332642   1334.03125 -108.254135  ...   \n4        OGEsports           CT   -149.03125  1001.231262    1.489925  ...   \n..             ...          ...          ...          ...         ...  ...   \n158  Natus Vincere           CT  -484.418335  1847.642334 -123.553299  ...   \n159      OGEsports            T -2025.999146  1511.807251   33.910797  ...   \n160      OGEsports            T -2015.828979  1507.713623   33.111588  ...   \n161  Natus Vincere           CT  -1753.57373  1118.690674   31.989418  ...   \n162      OGEsports            T  -1845.39917  2564.569336   33.790802  ...   \n\n     isTrade  playerTradedName  playerTradedTeam playerTradedSteamID  \\\n0      False              <NA>              <NA>                <NA>   \n1      False              <NA>              <NA>                <NA>   \n2      False              <NA>              <NA>                <NA>   \n3      False              <NA>              <NA>                <NA>   \n4       True           Aleksib         OGEsports   76561198013243326   \n..       ...               ...               ...                 ...   \n158    False              <NA>              <NA>                <NA>   \n159    False              <NA>              <NA>                <NA>   \n160    False              <NA>              <NA>                <NA>   \n161     True           Boombl4     Natus Vincere   76561198146207066   \n162     True             valde         OGEsports   76561198114929868   \n\n    playerTradedSide    weapon  weaponClass  roundNum            matchID  \\\n0               <NA>     USP-S      Pistols         1  OG-NaVi-BLAST2020   \n1               <NA>     USP-S      Pistols         1  OG-NaVi-BLAST2020   \n2               <NA>     USP-S      Pistols         1  OG-NaVi-BLAST2020   \n3               <NA>  Glock-18      Pistols         1  OG-NaVi-BLAST2020   \n4                 CT     USP-S      Pistols         1  OG-NaVi-BLAST2020   \n..               ...       ...          ...       ...                ...   \n158             <NA>      M4A4        Rifle        25  OG-NaVi-BLAST2020   \n159             <NA>     AK-47        Rifle        25  OG-NaVi-BLAST2020   \n160             <NA>     AK-47        Rifle        25  OG-NaVi-BLAST2020   \n161               CT      M4A4        Rifle        25  OG-NaVi-BLAST2020   \n162                T     AK-47        Rifle        25  OG-NaVi-BLAST2020   \n\n      mapName  \n0    de_dust2  \n1    de_dust2  \n2    de_dust2  \n3    de_dust2  \n4    de_dust2  \n..        ...  \n158  de_dust2  \n159  de_dust2  \n160  de_dust2  \n161  de_dust2  \n162  de_dust2  \n\n[163 rows x 50 columns]",
      "text/html": "<div>\n<style scoped>\n    .dataframe tbody tr th:only-of-type {\n        vertical-align: middle;\n    }\n\n    .dataframe tbody tr th {\n        vertical-align: top;\n    }\n\n    .dataframe thead th {\n        text-align: right;\n    }\n</style>\n<table border=\"1\" class=\"dataframe\">\n  <thead>\n    <tr style=\"text-align: right;\">\n      <th></th>\n      <th>tick</th>\n      <th>seconds</th>\n      <th>clockTime</th>\n      <th>attackerSteamID</th>\n      <th>attackerName</th>\n      <th>attackerTeam</th>\n      <th>attackerSide</th>\n      <th>attackerX</th>\n      <th>attackerY</th>\n      <th>attackerZ</th>\n      <th>...</th>\n      <th>isTrade</th>\n      <th>playerTradedName</th>\n      <th>playerTradedTeam</th>\n      <th>playerTradedSteamID</th>\n      <th>playerTradedSide</th>\n      <th>weapon</th>\n      <th>weaponClass</th>\n      <th>roundNum</th>\n      <th>matchID</th>\n      <th>mapName</th>\n    </tr>\n  </thead>\n  <tbody>\n    <tr>\n      <th>0</th>\n      <td>39106</td>\n      <td>16.117188</td>\n      <td>01:39</td>\n      <td>76561198016432560</td>\n      <td>mantuu</td>\n      <td>OGEsports</td>\n      <td>CT</td>\n      <td>-294.155731</td>\n      <td>626.777832</td>\n      <td>1.016636</td>\n      <td>...</td>\n      <td>False</td>\n      <td>&lt;NA&gt;</td>\n      <td>&lt;NA&gt;</td>\n      <td>&lt;NA&gt;</td>\n      <td>&lt;NA&gt;</td>\n      <td>USP-S</td>\n      <td>Pistols</td>\n      <td>1</td>\n      <td>OG-NaVi-BLAST2020</td>\n      <td>de_dust2</td>\n    </tr>\n    <tr>\n      <th>1</th>\n      <td>39549</td>\n      <td>19.578125</td>\n      <td>01:36</td>\n      <td>76561198037812456</td>\n      <td>ISSAA</td>\n      <td>OGEsports</td>\n      <td>CT</td>\n      <td>-1845.398804</td>\n      <td>2719.539307</td>\n      <td>32.390869</td>\n      <td>...</td>\n      <td>False</td>\n      <td>&lt;NA&gt;</td>\n      <td>&lt;NA&gt;</td>\n      <td>&lt;NA&gt;</td>\n      <td>&lt;NA&gt;</td>\n      <td>USP-S</td>\n      <td>Pistols</td>\n      <td>1</td>\n      <td>OG-NaVi-BLAST2020</td>\n      <td>de_dust2</td>\n    </tr>\n    <tr>\n      <th>2</th>\n      <td>39632</td>\n      <td>20.226562</td>\n      <td>01:35</td>\n      <td>76561198016432560</td>\n      <td>mantuu</td>\n      <td>OGEsports</td>\n      <td>CT</td>\n      <td>-171.508743</td>\n      <td>761.183167</td>\n      <td>2.132068</td>\n      <td>...</td>\n      <td>False</td>\n      <td>&lt;NA&gt;</td>\n      <td>&lt;NA&gt;</td>\n      <td>&lt;NA&gt;</td>\n      <td>&lt;NA&gt;</td>\n      <td>USP-S</td>\n      <td>Pistols</td>\n      <td>1</td>\n      <td>OG-NaVi-BLAST2020</td>\n      <td>de_dust2</td>\n    </tr>\n    <tr>\n      <th>3</th>\n      <td>39696</td>\n      <td>20.726562</td>\n      <td>01:35</td>\n      <td>76561198116523276</td>\n      <td>flamie</td>\n      <td>Natus Vincere</td>\n      <td>T</td>\n      <td>-604.332642</td>\n      <td>1334.03125</td>\n      <td>-108.254135</td>\n      <td>...</td>\n      <td>False</td>\n      <td>&lt;NA&gt;</td>\n      <td>&lt;NA&gt;</td>\n      <td>&lt;NA&gt;</td>\n      <td>&lt;NA&gt;</td>\n      <td>Glock-18</td>\n      <td>Pistols</td>\n      <td>1</td>\n      <td>OG-NaVi-BLAST2020</td>\n      <td>de_dust2</td>\n    </tr>\n    <tr>\n      <th>4</th>\n      <td>40045</td>\n      <td>23.453125</td>\n      <td>01:32</td>\n      <td>76561198016432560</td>\n      <td>mantuu</td>\n      <td>OGEsports</td>\n      <td>CT</td>\n      <td>-149.03125</td>\n      <td>1001.231262</td>\n      <td>1.489925</td>\n      <td>...</td>\n      <td>True</td>\n      <td>Aleksib</td>\n      <td>OGEsports</td>\n      <td>76561198013243326</td>\n      <td>CT</td>\n      <td>USP-S</td>\n      <td>Pistols</td>\n      <td>1</td>\n      <td>OG-NaVi-BLAST2020</td>\n      <td>de_dust2</td>\n    </tr>\n    <tr>\n      <th>...</th>\n      <td>...</td>\n      <td>...</td>\n      <td>...</td>\n      <td>...</td>\n      <td>...</td>\n      <td>...</td>\n      <td>...</td>\n      <td>...</td>\n      <td>...</td>\n      <td>...</td>\n      <td>...</td>\n      <td>...</td>\n      <td>...</td>\n      <td>...</td>\n      <td>...</td>\n      <td>...</td>\n      <td>...</td>\n      <td>...</td>\n      <td>...</td>\n      <td>...</td>\n      <td>...</td>\n    </tr>\n    <tr>\n      <th>158</th>\n      <td>456139</td>\n      <td>4.148438</td>\n      <td>00:36</td>\n      <td>76561198044045107</td>\n      <td>electronic</td>\n      <td>Natus Vincere</td>\n      <td>CT</td>\n      <td>-484.418335</td>\n      <td>1847.642334</td>\n      <td>-123.553299</td>\n      <td>...</td>\n      <td>False</td>\n      <td>&lt;NA&gt;</td>\n      <td>&lt;NA&gt;</td>\n      <td>&lt;NA&gt;</td>\n      <td>&lt;NA&gt;</td>\n      <td>M4A4</td>\n      <td>Rifle</td>\n      <td>25</td>\n      <td>OG-NaVi-BLAST2020</td>\n      <td>de_dust2</td>\n    </tr>\n    <tr>\n      <th>159</th>\n      <td>458062</td>\n      <td>19.171875</td>\n      <td>00:21</td>\n      <td>76561198114929868</td>\n      <td>valde</td>\n      <td>OGEsports</td>\n      <td>T</td>\n      <td>-2025.999146</td>\n      <td>1511.807251</td>\n      <td>33.910797</td>\n      <td>...</td>\n      <td>False</td>\n      <td>&lt;NA&gt;</td>\n      <td>&lt;NA&gt;</td>\n      <td>&lt;NA&gt;</td>\n      <td>&lt;NA&gt;</td>\n      <td>AK-47</td>\n      <td>Rifle</td>\n      <td>25</td>\n      <td>OG-NaVi-BLAST2020</td>\n      <td>de_dust2</td>\n    </tr>\n    <tr>\n      <th>160</th>\n      <td>458223</td>\n      <td>20.429688</td>\n      <td>00:20</td>\n      <td>76561198114929868</td>\n      <td>valde</td>\n      <td>OGEsports</td>\n      <td>T</td>\n      <td>-2015.828979</td>\n      <td>1507.713623</td>\n      <td>33.111588</td>\n      <td>...</td>\n      <td>False</td>\n      <td>&lt;NA&gt;</td>\n      <td>&lt;NA&gt;</td>\n      <td>&lt;NA&gt;</td>\n      <td>&lt;NA&gt;</td>\n      <td>AK-47</td>\n      <td>Rifle</td>\n      <td>25</td>\n      <td>OG-NaVi-BLAST2020</td>\n      <td>de_dust2</td>\n    </tr>\n    <tr>\n      <th>161</th>\n      <td>458294</td>\n      <td>20.984375</td>\n      <td>00:20</td>\n      <td>76561198044045107</td>\n      <td>electronic</td>\n      <td>Natus Vincere</td>\n      <td>CT</td>\n      <td>-1753.57373</td>\n      <td>1118.690674</td>\n      <td>31.989418</td>\n      <td>...</td>\n      <td>True</td>\n      <td>Boombl4</td>\n      <td>Natus Vincere</td>\n      <td>76561198146207066</td>\n      <td>CT</td>\n      <td>M4A4</td>\n      <td>Rifle</td>\n      <td>25</td>\n      <td>OG-NaVi-BLAST2020</td>\n      <td>de_dust2</td>\n    </tr>\n    <tr>\n      <th>162</th>\n      <td>458546</td>\n      <td>22.953125</td>\n      <td>00:18</td>\n      <td>76561197960710573</td>\n      <td>NBK-</td>\n      <td>OGEsports</td>\n      <td>T</td>\n      <td>-1845.39917</td>\n      <td>2564.569336</td>\n      <td>33.790802</td>\n      <td>...</td>\n      <td>True</td>\n      <td>valde</td>\n      <td>OGEsports</td>\n      <td>76561198114929868</td>\n      <td>T</td>\n      <td>AK-47</td>\n      <td>Rifle</td>\n      <td>25</td>\n      <td>OG-NaVi-BLAST2020</td>\n      <td>de_dust2</td>\n    </tr>\n  </tbody>\n</table>\n<p>163 rows × 50 columns</p>\n</div>"
     },
     "execution_count": 11,
     "metadata": {},
     "output_type": "execute_result"
    }
   ],
   "source": [
    "df[\"kills\"]"
   ]
  },
  {
   "cell_type": "code",
   "execution_count": 12,
   "metadata": {
    "ExecuteTime": {
     "end_time": "2023-06-20T18:57:26.672390Z",
     "start_time": "2023-06-20T18:57:26.631438600Z"
    }
   },
   "outputs": [
    {
     "data": {
      "text/plain": "       tick    seconds clockTime    attackerSteamID attackerName  \\\n0     39015   15.40625     01:40  76561198016432560       mantuu   \n1     39072  15.851562     01:40  76561198016432560       mantuu   \n2     39106  16.117188     01:39  76561198016432560       mantuu   \n3     39526  19.398438     01:36  76561198044045107   electronic   \n4     39549  19.578125     01:36  76561198037812456        ISSAA   \n..      ...        ...       ...                ...          ...   \n699  458191  20.179688     00:20  76561198146207066      Boombl4   \n700  458217  20.382812     00:20  76561198146207066      Boombl4   \n701  458223  20.429688     00:20  76561198114929868        valde   \n702  458294  20.984375     00:20  76561198044045107   electronic   \n703  458546  22.953125     00:18  76561197960710573         NBK-   \n\n      attackerTeam attackerSide    attackerX    attackerY   attackerZ  ...  \\\n0        OGEsports           CT  -284.767151   632.744629    1.266963  ...   \n1        OGEsports           CT  -294.155731   626.777832    1.016636  ...   \n2        OGEsports           CT  -294.155731   626.777832    1.016636  ...   \n3    Natus Vincere            T  -579.786072  1494.131836 -110.432953  ...   \n4        OGEsports           CT -1845.398804  2719.539307   32.390869  ...   \n..             ...          ...          ...          ...         ...  ...   \n699  Natus Vincere           CT -1873.927979  1302.483154    33.93499  ...   \n700  Natus Vincere           CT -1883.084595  1294.227783   32.957306  ...   \n701      OGEsports            T -2015.828979  1507.713623   33.111588  ...   \n702  Natus Vincere           CT  -1753.57373  1118.690674   31.989418  ...   \n703      OGEsports            T  -1845.39917  2564.569336   33.790802  ...   \n\n     hpDamageTaken  armorDamage  armorDamageTaken  hitGroup isFriendlyFire  \\\n0               32            0                 0      Neck          False   \n1               31            0                 0  RightArm          False   \n2               37            0                 0      Head          False   \n3               91            0                 0      Head          False   \n4              100            0                 0      Head          False   \n..             ...          ...               ...       ...            ...   \n699             27            4                 4     Chest          False   \n700             27            4                 4     Chest          False   \n701            100           16                16      Head          False   \n702             46           19                19      Head          False   \n703             99           15                15      Head          False   \n\n        distance zoomLevel  roundNum            matchID   mapName  \n0     465.277175         0         1  OG-NaVi-BLAST2020  de_dust2  \n1     486.924484         0         1  OG-NaVi-BLAST2020  de_dust2  \n2     481.229305         0         1  OG-NaVi-BLAST2020  de_dust2  \n3     844.723217         0         1  OG-NaVi-BLAST2020  de_dust2  \n4    1451.886671         0         1  OG-NaVi-BLAST2020  de_dust2  \n..           ...       ...       ...                ...       ...  \n699   259.550535         0        25  OG-NaVi-BLAST2020  de_dust2  \n700   252.194264         0        25  OG-NaVi-BLAST2020  de_dust2  \n701   251.518662         0        25  OG-NaVi-BLAST2020  de_dust2  \n702   467.218752         0        25  OG-NaVi-BLAST2020  de_dust2  \n703  1279.629537         0        25  OG-NaVi-BLAST2020  de_dust2  \n\n[704 rows x 35 columns]",
      "text/html": "<div>\n<style scoped>\n    .dataframe tbody tr th:only-of-type {\n        vertical-align: middle;\n    }\n\n    .dataframe tbody tr th {\n        vertical-align: top;\n    }\n\n    .dataframe thead th {\n        text-align: right;\n    }\n</style>\n<table border=\"1\" class=\"dataframe\">\n  <thead>\n    <tr style=\"text-align: right;\">\n      <th></th>\n      <th>tick</th>\n      <th>seconds</th>\n      <th>clockTime</th>\n      <th>attackerSteamID</th>\n      <th>attackerName</th>\n      <th>attackerTeam</th>\n      <th>attackerSide</th>\n      <th>attackerX</th>\n      <th>attackerY</th>\n      <th>attackerZ</th>\n      <th>...</th>\n      <th>hpDamageTaken</th>\n      <th>armorDamage</th>\n      <th>armorDamageTaken</th>\n      <th>hitGroup</th>\n      <th>isFriendlyFire</th>\n      <th>distance</th>\n      <th>zoomLevel</th>\n      <th>roundNum</th>\n      <th>matchID</th>\n      <th>mapName</th>\n    </tr>\n  </thead>\n  <tbody>\n    <tr>\n      <th>0</th>\n      <td>39015</td>\n      <td>15.40625</td>\n      <td>01:40</td>\n      <td>76561198016432560</td>\n      <td>mantuu</td>\n      <td>OGEsports</td>\n      <td>CT</td>\n      <td>-284.767151</td>\n      <td>632.744629</td>\n      <td>1.266963</td>\n      <td>...</td>\n      <td>32</td>\n      <td>0</td>\n      <td>0</td>\n      <td>Neck</td>\n      <td>False</td>\n      <td>465.277175</td>\n      <td>0</td>\n      <td>1</td>\n      <td>OG-NaVi-BLAST2020</td>\n      <td>de_dust2</td>\n    </tr>\n    <tr>\n      <th>1</th>\n      <td>39072</td>\n      <td>15.851562</td>\n      <td>01:40</td>\n      <td>76561198016432560</td>\n      <td>mantuu</td>\n      <td>OGEsports</td>\n      <td>CT</td>\n      <td>-294.155731</td>\n      <td>626.777832</td>\n      <td>1.016636</td>\n      <td>...</td>\n      <td>31</td>\n      <td>0</td>\n      <td>0</td>\n      <td>RightArm</td>\n      <td>False</td>\n      <td>486.924484</td>\n      <td>0</td>\n      <td>1</td>\n      <td>OG-NaVi-BLAST2020</td>\n      <td>de_dust2</td>\n    </tr>\n    <tr>\n      <th>2</th>\n      <td>39106</td>\n      <td>16.117188</td>\n      <td>01:39</td>\n      <td>76561198016432560</td>\n      <td>mantuu</td>\n      <td>OGEsports</td>\n      <td>CT</td>\n      <td>-294.155731</td>\n      <td>626.777832</td>\n      <td>1.016636</td>\n      <td>...</td>\n      <td>37</td>\n      <td>0</td>\n      <td>0</td>\n      <td>Head</td>\n      <td>False</td>\n      <td>481.229305</td>\n      <td>0</td>\n      <td>1</td>\n      <td>OG-NaVi-BLAST2020</td>\n      <td>de_dust2</td>\n    </tr>\n    <tr>\n      <th>3</th>\n      <td>39526</td>\n      <td>19.398438</td>\n      <td>01:36</td>\n      <td>76561198044045107</td>\n      <td>electronic</td>\n      <td>Natus Vincere</td>\n      <td>T</td>\n      <td>-579.786072</td>\n      <td>1494.131836</td>\n      <td>-110.432953</td>\n      <td>...</td>\n      <td>91</td>\n      <td>0</td>\n      <td>0</td>\n      <td>Head</td>\n      <td>False</td>\n      <td>844.723217</td>\n      <td>0</td>\n      <td>1</td>\n      <td>OG-NaVi-BLAST2020</td>\n      <td>de_dust2</td>\n    </tr>\n    <tr>\n      <th>4</th>\n      <td>39549</td>\n      <td>19.578125</td>\n      <td>01:36</td>\n      <td>76561198037812456</td>\n      <td>ISSAA</td>\n      <td>OGEsports</td>\n      <td>CT</td>\n      <td>-1845.398804</td>\n      <td>2719.539307</td>\n      <td>32.390869</td>\n      <td>...</td>\n      <td>100</td>\n      <td>0</td>\n      <td>0</td>\n      <td>Head</td>\n      <td>False</td>\n      <td>1451.886671</td>\n      <td>0</td>\n      <td>1</td>\n      <td>OG-NaVi-BLAST2020</td>\n      <td>de_dust2</td>\n    </tr>\n    <tr>\n      <th>...</th>\n      <td>...</td>\n      <td>...</td>\n      <td>...</td>\n      <td>...</td>\n      <td>...</td>\n      <td>...</td>\n      <td>...</td>\n      <td>...</td>\n      <td>...</td>\n      <td>...</td>\n      <td>...</td>\n      <td>...</td>\n      <td>...</td>\n      <td>...</td>\n      <td>...</td>\n      <td>...</td>\n      <td>...</td>\n      <td>...</td>\n      <td>...</td>\n      <td>...</td>\n      <td>...</td>\n    </tr>\n    <tr>\n      <th>699</th>\n      <td>458191</td>\n      <td>20.179688</td>\n      <td>00:20</td>\n      <td>76561198146207066</td>\n      <td>Boombl4</td>\n      <td>Natus Vincere</td>\n      <td>CT</td>\n      <td>-1873.927979</td>\n      <td>1302.483154</td>\n      <td>33.93499</td>\n      <td>...</td>\n      <td>27</td>\n      <td>4</td>\n      <td>4</td>\n      <td>Chest</td>\n      <td>False</td>\n      <td>259.550535</td>\n      <td>0</td>\n      <td>25</td>\n      <td>OG-NaVi-BLAST2020</td>\n      <td>de_dust2</td>\n    </tr>\n    <tr>\n      <th>700</th>\n      <td>458217</td>\n      <td>20.382812</td>\n      <td>00:20</td>\n      <td>76561198146207066</td>\n      <td>Boombl4</td>\n      <td>Natus Vincere</td>\n      <td>CT</td>\n      <td>-1883.084595</td>\n      <td>1294.227783</td>\n      <td>32.957306</td>\n      <td>...</td>\n      <td>27</td>\n      <td>4</td>\n      <td>4</td>\n      <td>Chest</td>\n      <td>False</td>\n      <td>252.194264</td>\n      <td>0</td>\n      <td>25</td>\n      <td>OG-NaVi-BLAST2020</td>\n      <td>de_dust2</td>\n    </tr>\n    <tr>\n      <th>701</th>\n      <td>458223</td>\n      <td>20.429688</td>\n      <td>00:20</td>\n      <td>76561198114929868</td>\n      <td>valde</td>\n      <td>OGEsports</td>\n      <td>T</td>\n      <td>-2015.828979</td>\n      <td>1507.713623</td>\n      <td>33.111588</td>\n      <td>...</td>\n      <td>100</td>\n      <td>16</td>\n      <td>16</td>\n      <td>Head</td>\n      <td>False</td>\n      <td>251.518662</td>\n      <td>0</td>\n      <td>25</td>\n      <td>OG-NaVi-BLAST2020</td>\n      <td>de_dust2</td>\n    </tr>\n    <tr>\n      <th>702</th>\n      <td>458294</td>\n      <td>20.984375</td>\n      <td>00:20</td>\n      <td>76561198044045107</td>\n      <td>electronic</td>\n      <td>Natus Vincere</td>\n      <td>CT</td>\n      <td>-1753.57373</td>\n      <td>1118.690674</td>\n      <td>31.989418</td>\n      <td>...</td>\n      <td>46</td>\n      <td>19</td>\n      <td>19</td>\n      <td>Head</td>\n      <td>False</td>\n      <td>467.218752</td>\n      <td>0</td>\n      <td>25</td>\n      <td>OG-NaVi-BLAST2020</td>\n      <td>de_dust2</td>\n    </tr>\n    <tr>\n      <th>703</th>\n      <td>458546</td>\n      <td>22.953125</td>\n      <td>00:18</td>\n      <td>76561197960710573</td>\n      <td>NBK-</td>\n      <td>OGEsports</td>\n      <td>T</td>\n      <td>-1845.39917</td>\n      <td>2564.569336</td>\n      <td>33.790802</td>\n      <td>...</td>\n      <td>99</td>\n      <td>15</td>\n      <td>15</td>\n      <td>Head</td>\n      <td>False</td>\n      <td>1279.629537</td>\n      <td>0</td>\n      <td>25</td>\n      <td>OG-NaVi-BLAST2020</td>\n      <td>de_dust2</td>\n    </tr>\n  </tbody>\n</table>\n<p>704 rows × 35 columns</p>\n</div>"
     },
     "execution_count": 12,
     "metadata": {},
     "output_type": "execute_result"
    }
   ],
   "source": [
    "df[\"damages\"]"
   ]
  },
  {
   "cell_type": "code",
   "execution_count": 13,
   "outputs": [
    {
     "data": {
      "text/plain": "    roundNum            matchID   mapName  startTick  freezeTimeEndTick  \\\n0          1  OG-NaVi-BLAST2020  de_dust2       9308              37043   \n1          2  OG-NaVi-BLAST2020  de_dust2      43817              46377   \n2          3  OG-NaVi-BLAST2020  de_dust2      60608              63168   \n3          4  OG-NaVi-BLAST2020  de_dust2      73511              76071   \n4          5  OG-NaVi-BLAST2020  de_dust2      84662              87222   \n5          6  OG-NaVi-BLAST2020  de_dust2     100420             102980   \n6          7  OG-NaVi-BLAST2020  de_dust2     118340             120900   \n7          8  OG-NaVi-BLAST2020  de_dust2     135431             137991   \n8          9  OG-NaVi-BLAST2020  de_dust2     153351             155911   \n9         10  OG-NaVi-BLAST2020  de_dust2     169400             171960   \n10        11  OG-NaVi-BLAST2020  de_dust2     181861             184421   \n11        12  OG-NaVi-BLAST2020  de_dust2     192298             194858   \n12        13  OG-NaVi-BLAST2020  de_dust2     209674             212234   \n13        14  OG-NaVi-BLAST2020  de_dust2     227594             230154   \n14        15  OG-NaVi-BLAST2020  de_dust2     239899             242459   \n15        16  OG-NaVi-BLAST2020  de_dust2     259186             284731   \n16        17  OG-NaVi-BLAST2020  de_dust2     294862             302843   \n17        18  OG-NaVi-BLAST2020  de_dust2     318686             321246   \n18        19  OG-NaVi-BLAST2020  de_dust2     339215             341775   \n19        20  OG-NaVi-BLAST2020  de_dust2     346620             349180   \n20        21  OG-NaVi-BLAST2020  de_dust2     363966             371281   \n21        22  OG-NaVi-BLAST2020  de_dust2     389948             392508   \n22        23  OG-NaVi-BLAST2020  de_dust2     410601             418300   \n23        24  OG-NaVi-BLAST2020  de_dust2     429300             431860   \n24        25  OG-NaVi-BLAST2020  de_dust2     441487             448917   \n\n    endTick  endOfficialTick  tScore  ctScore  endTScore  ...  \\\n0     43177            43817       0        0          0  ...   \n1     59967            60608       0        1          1  ...   \n2     72870            73511       1        1          2  ...   \n3     84021            84662       2        1          3  ...   \n4     99779           100420       3        1          3  ...   \n5    117700           118340       3        2          3  ...   \n6    134791           135431       3        3          4  ...   \n7    152711           153351       4        3          4  ...   \n8    168760           169400       4        4          4  ...   \n9    181220           181861       4        5          4  ...   \n10   191658           192298       4        6          4  ...   \n11   209035           209674       4        7          4  ...   \n12   226954           227594       4        8          4  ...   \n13   239259           239899       4        9          5  ...   \n14   257266           259186       5        9          6  ...   \n15   294222           294862       9        6          9  ...   \n16   318046           318686       9        7         10  ...   \n17   338574           339215      10        7         11  ...   \n18   345980           346620      11        7         12  ...   \n19   363326           363966      12        7         13  ...   \n20   389308           389948      13        7         14  ...   \n21   409961           410601      14        7         14  ...   \n22   428659           429300      14        8         14  ...   \n23   440847           441487      14        9         15  ...   \n24   458546           459186      15        9         16  ...   \n\n           MVPSteamID                  MVPReason ctFreezeTimeEndEqVal  \\\n0   76561198016432560  MVPReasonMostEliminations                 4400   \n1   76561198146207066  MVPReasonMostEliminations                21200   \n2   76561198146207066  MVPReasonMostEliminations                 8050   \n3   76561198034202275  MVPReasonMostEliminations                 1000   \n4   76561198016432560  MVPReasonMostEliminations                22600   \n5   76561198013243326  MVPReasonMostEliminations                21950   \n6   76561198034202275       MVPReasonBombDefused                29050   \n7   76561197960710573  MVPReasonMostEliminations                21750   \n8   76561197960710573  MVPReasonMostEliminations                27450   \n9   76561198016432560  MVPReasonMostEliminations                29100   \n10  76561198016432560  MVPReasonMostEliminations                31900   \n11  76561198037812456  MVPReasonMostEliminations                32450   \n12  76561198013243326  MVPReasonMostEliminations                23550   \n13  76561198034202275       MVPReasonBombDefused                33700   \n14  76561198146207066  MVPReasonMostEliminations                32950   \n15  76561198044045107       MVPReasonBombPlanted                 4400   \n16  76561198016432560  MVPReasonMostEliminations                19350   \n17  76561197960710573  MVPReasonMostEliminations                 6400   \n18  76561197960710573  MVPReasonMostEliminations                 1100   \n19  76561198013243326       MVPReasonBombDefused                21200   \n20  76561198016432560       MVPReasonBombDefused                10600   \n21  76561198146207066       MVPReasonBombPlanted                29250   \n22  76561198146207066  MVPReasonMostEliminations                30900   \n23  76561198037812456       MVPReasonBombDefused                27650   \n24  76561198114929868  MVPReasonMostEliminations                27550   \n\n   ctRoundStartEqVal ctRoundSpendMoney ctBuyType tFreezeTimeEndEqVal  \\\n0               1000              3400  Full Eco                4250   \n1               3250             17950  Full Buy               10200   \n2               1000              8050  Semi Eco               23600   \n3               1000               300  Full Eco               22450   \n4               1000             21600  Full Buy               26850   \n5               5600             16550  Full Buy               25650   \n6              18450             10800  Full Buy               23750   \n7               6000             15950  Full Buy               23300   \n8              19250              8800  Full Buy               22250   \n9               6000             23100  Full Buy                1500   \n10             27000              5100  Full Buy               17650   \n11             22050             10200  Full Buy                2300   \n12             16750             17150  Full Buy               26450   \n13             14100             23300  Full Buy               22150   \n14             13250             20300  Full Buy               19800   \n15              1000              3400  Full Eco                4400   \n16              2050             19050  Semi Buy               16200   \n17              1000              8950  Semi Eco               25550   \n18              1000              1000  Full Eco               23800   \n19              1000             21200  Full Buy               26650   \n20              8150              3850  Semi Buy               27150   \n21              6050             25450  Full Buy               27050   \n22             16100             14800  Full Buy               27150   \n23              5900             22850  Full Buy               24300   \n24             15850             11700  Full Buy               27050   \n\n   tRoundStartEqVal  tRoundSpendMoney  tBuyType  \n0              1000              3450  Full Eco  \n1              1000             10400  Semi Buy  \n2             12600             11000  Full Buy  \n3             16600              5850  Full Buy  \n4             17600              9250  Full Buy  \n5              1000             25750  Full Buy  \n6              6750             18100  Full Buy  \n7             10750             15000  Full Buy  \n8             14950              5200  Full Buy  \n9              1000               700  Full Eco  \n10             1000             23000  Semi Buy  \n11             1000              4400  Full Eco  \n12             1000             25450  Full Buy  \n13             6750             16000  Full Buy  \n14            14350             13950  Semi Buy  \n15             1000              3400  Full Eco  \n16             1000             15200  Semi Buy  \n17             9550             16600  Full Buy  \n18             7550             16250  Full Buy  \n19            20050              6600  Full Buy  \n20            18550              8950  Full Buy  \n21            14150             12900  Full Buy  \n22             6750             20600  Full Buy  \n23             1000             23300  Full Buy  \n24            18350              8700  Full Buy  \n\n[25 rows x 28 columns]",
      "text/html": "<div>\n<style scoped>\n    .dataframe tbody tr th:only-of-type {\n        vertical-align: middle;\n    }\n\n    .dataframe tbody tr th {\n        vertical-align: top;\n    }\n\n    .dataframe thead th {\n        text-align: right;\n    }\n</style>\n<table border=\"1\" class=\"dataframe\">\n  <thead>\n    <tr style=\"text-align: right;\">\n      <th></th>\n      <th>roundNum</th>\n      <th>matchID</th>\n      <th>mapName</th>\n      <th>startTick</th>\n      <th>freezeTimeEndTick</th>\n      <th>endTick</th>\n      <th>endOfficialTick</th>\n      <th>tScore</th>\n      <th>ctScore</th>\n      <th>endTScore</th>\n      <th>...</th>\n      <th>MVPSteamID</th>\n      <th>MVPReason</th>\n      <th>ctFreezeTimeEndEqVal</th>\n      <th>ctRoundStartEqVal</th>\n      <th>ctRoundSpendMoney</th>\n      <th>ctBuyType</th>\n      <th>tFreezeTimeEndEqVal</th>\n      <th>tRoundStartEqVal</th>\n      <th>tRoundSpendMoney</th>\n      <th>tBuyType</th>\n    </tr>\n  </thead>\n  <tbody>\n    <tr>\n      <th>0</th>\n      <td>1</td>\n      <td>OG-NaVi-BLAST2020</td>\n      <td>de_dust2</td>\n      <td>9308</td>\n      <td>37043</td>\n      <td>43177</td>\n      <td>43817</td>\n      <td>0</td>\n      <td>0</td>\n      <td>0</td>\n      <td>...</td>\n      <td>76561198016432560</td>\n      <td>MVPReasonMostEliminations</td>\n      <td>4400</td>\n      <td>1000</td>\n      <td>3400</td>\n      <td>Full Eco</td>\n      <td>4250</td>\n      <td>1000</td>\n      <td>3450</td>\n      <td>Full Eco</td>\n    </tr>\n    <tr>\n      <th>1</th>\n      <td>2</td>\n      <td>OG-NaVi-BLAST2020</td>\n      <td>de_dust2</td>\n      <td>43817</td>\n      <td>46377</td>\n      <td>59967</td>\n      <td>60608</td>\n      <td>0</td>\n      <td>1</td>\n      <td>1</td>\n      <td>...</td>\n      <td>76561198146207066</td>\n      <td>MVPReasonMostEliminations</td>\n      <td>21200</td>\n      <td>3250</td>\n      <td>17950</td>\n      <td>Full Buy</td>\n      <td>10200</td>\n      <td>1000</td>\n      <td>10400</td>\n      <td>Semi Buy</td>\n    </tr>\n    <tr>\n      <th>2</th>\n      <td>3</td>\n      <td>OG-NaVi-BLAST2020</td>\n      <td>de_dust2</td>\n      <td>60608</td>\n      <td>63168</td>\n      <td>72870</td>\n      <td>73511</td>\n      <td>1</td>\n      <td>1</td>\n      <td>2</td>\n      <td>...</td>\n      <td>76561198146207066</td>\n      <td>MVPReasonMostEliminations</td>\n      <td>8050</td>\n      <td>1000</td>\n      <td>8050</td>\n      <td>Semi Eco</td>\n      <td>23600</td>\n      <td>12600</td>\n      <td>11000</td>\n      <td>Full Buy</td>\n    </tr>\n    <tr>\n      <th>3</th>\n      <td>4</td>\n      <td>OG-NaVi-BLAST2020</td>\n      <td>de_dust2</td>\n      <td>73511</td>\n      <td>76071</td>\n      <td>84021</td>\n      <td>84662</td>\n      <td>2</td>\n      <td>1</td>\n      <td>3</td>\n      <td>...</td>\n      <td>76561198034202275</td>\n      <td>MVPReasonMostEliminations</td>\n      <td>1000</td>\n      <td>1000</td>\n      <td>300</td>\n      <td>Full Eco</td>\n      <td>22450</td>\n      <td>16600</td>\n      <td>5850</td>\n      <td>Full Buy</td>\n    </tr>\n    <tr>\n      <th>4</th>\n      <td>5</td>\n      <td>OG-NaVi-BLAST2020</td>\n      <td>de_dust2</td>\n      <td>84662</td>\n      <td>87222</td>\n      <td>99779</td>\n      <td>100420</td>\n      <td>3</td>\n      <td>1</td>\n      <td>3</td>\n      <td>...</td>\n      <td>76561198016432560</td>\n      <td>MVPReasonMostEliminations</td>\n      <td>22600</td>\n      <td>1000</td>\n      <td>21600</td>\n      <td>Full Buy</td>\n      <td>26850</td>\n      <td>17600</td>\n      <td>9250</td>\n      <td>Full Buy</td>\n    </tr>\n    <tr>\n      <th>5</th>\n      <td>6</td>\n      <td>OG-NaVi-BLAST2020</td>\n      <td>de_dust2</td>\n      <td>100420</td>\n      <td>102980</td>\n      <td>117700</td>\n      <td>118340</td>\n      <td>3</td>\n      <td>2</td>\n      <td>3</td>\n      <td>...</td>\n      <td>76561198013243326</td>\n      <td>MVPReasonMostEliminations</td>\n      <td>21950</td>\n      <td>5600</td>\n      <td>16550</td>\n      <td>Full Buy</td>\n      <td>25650</td>\n      <td>1000</td>\n      <td>25750</td>\n      <td>Full Buy</td>\n    </tr>\n    <tr>\n      <th>6</th>\n      <td>7</td>\n      <td>OG-NaVi-BLAST2020</td>\n      <td>de_dust2</td>\n      <td>118340</td>\n      <td>120900</td>\n      <td>134791</td>\n      <td>135431</td>\n      <td>3</td>\n      <td>3</td>\n      <td>4</td>\n      <td>...</td>\n      <td>76561198034202275</td>\n      <td>MVPReasonBombDefused</td>\n      <td>29050</td>\n      <td>18450</td>\n      <td>10800</td>\n      <td>Full Buy</td>\n      <td>23750</td>\n      <td>6750</td>\n      <td>18100</td>\n      <td>Full Buy</td>\n    </tr>\n    <tr>\n      <th>7</th>\n      <td>8</td>\n      <td>OG-NaVi-BLAST2020</td>\n      <td>de_dust2</td>\n      <td>135431</td>\n      <td>137991</td>\n      <td>152711</td>\n      <td>153351</td>\n      <td>4</td>\n      <td>3</td>\n      <td>4</td>\n      <td>...</td>\n      <td>76561197960710573</td>\n      <td>MVPReasonMostEliminations</td>\n      <td>21750</td>\n      <td>6000</td>\n      <td>15950</td>\n      <td>Full Buy</td>\n      <td>23300</td>\n      <td>10750</td>\n      <td>15000</td>\n      <td>Full Buy</td>\n    </tr>\n    <tr>\n      <th>8</th>\n      <td>9</td>\n      <td>OG-NaVi-BLAST2020</td>\n      <td>de_dust2</td>\n      <td>153351</td>\n      <td>155911</td>\n      <td>168760</td>\n      <td>169400</td>\n      <td>4</td>\n      <td>4</td>\n      <td>4</td>\n      <td>...</td>\n      <td>76561197960710573</td>\n      <td>MVPReasonMostEliminations</td>\n      <td>27450</td>\n      <td>19250</td>\n      <td>8800</td>\n      <td>Full Buy</td>\n      <td>22250</td>\n      <td>14950</td>\n      <td>5200</td>\n      <td>Full Buy</td>\n    </tr>\n    <tr>\n      <th>9</th>\n      <td>10</td>\n      <td>OG-NaVi-BLAST2020</td>\n      <td>de_dust2</td>\n      <td>169400</td>\n      <td>171960</td>\n      <td>181220</td>\n      <td>181861</td>\n      <td>4</td>\n      <td>5</td>\n      <td>4</td>\n      <td>...</td>\n      <td>76561198016432560</td>\n      <td>MVPReasonMostEliminations</td>\n      <td>29100</td>\n      <td>6000</td>\n      <td>23100</td>\n      <td>Full Buy</td>\n      <td>1500</td>\n      <td>1000</td>\n      <td>700</td>\n      <td>Full Eco</td>\n    </tr>\n    <tr>\n      <th>10</th>\n      <td>11</td>\n      <td>OG-NaVi-BLAST2020</td>\n      <td>de_dust2</td>\n      <td>181861</td>\n      <td>184421</td>\n      <td>191658</td>\n      <td>192298</td>\n      <td>4</td>\n      <td>6</td>\n      <td>4</td>\n      <td>...</td>\n      <td>76561198016432560</td>\n      <td>MVPReasonMostEliminations</td>\n      <td>31900</td>\n      <td>27000</td>\n      <td>5100</td>\n      <td>Full Buy</td>\n      <td>17650</td>\n      <td>1000</td>\n      <td>23000</td>\n      <td>Semi Buy</td>\n    </tr>\n    <tr>\n      <th>11</th>\n      <td>12</td>\n      <td>OG-NaVi-BLAST2020</td>\n      <td>de_dust2</td>\n      <td>192298</td>\n      <td>194858</td>\n      <td>209035</td>\n      <td>209674</td>\n      <td>4</td>\n      <td>7</td>\n      <td>4</td>\n      <td>...</td>\n      <td>76561198037812456</td>\n      <td>MVPReasonMostEliminations</td>\n      <td>32450</td>\n      <td>22050</td>\n      <td>10200</td>\n      <td>Full Buy</td>\n      <td>2300</td>\n      <td>1000</td>\n      <td>4400</td>\n      <td>Full Eco</td>\n    </tr>\n    <tr>\n      <th>12</th>\n      <td>13</td>\n      <td>OG-NaVi-BLAST2020</td>\n      <td>de_dust2</td>\n      <td>209674</td>\n      <td>212234</td>\n      <td>226954</td>\n      <td>227594</td>\n      <td>4</td>\n      <td>8</td>\n      <td>4</td>\n      <td>...</td>\n      <td>76561198013243326</td>\n      <td>MVPReasonMostEliminations</td>\n      <td>23550</td>\n      <td>16750</td>\n      <td>17150</td>\n      <td>Full Buy</td>\n      <td>26450</td>\n      <td>1000</td>\n      <td>25450</td>\n      <td>Full Buy</td>\n    </tr>\n    <tr>\n      <th>13</th>\n      <td>14</td>\n      <td>OG-NaVi-BLAST2020</td>\n      <td>de_dust2</td>\n      <td>227594</td>\n      <td>230154</td>\n      <td>239259</td>\n      <td>239899</td>\n      <td>4</td>\n      <td>9</td>\n      <td>5</td>\n      <td>...</td>\n      <td>76561198034202275</td>\n      <td>MVPReasonBombDefused</td>\n      <td>33700</td>\n      <td>14100</td>\n      <td>23300</td>\n      <td>Full Buy</td>\n      <td>22150</td>\n      <td>6750</td>\n      <td>16000</td>\n      <td>Full Buy</td>\n    </tr>\n    <tr>\n      <th>14</th>\n      <td>15</td>\n      <td>OG-NaVi-BLAST2020</td>\n      <td>de_dust2</td>\n      <td>239899</td>\n      <td>242459</td>\n      <td>257266</td>\n      <td>259186</td>\n      <td>5</td>\n      <td>9</td>\n      <td>6</td>\n      <td>...</td>\n      <td>76561198146207066</td>\n      <td>MVPReasonMostEliminations</td>\n      <td>32950</td>\n      <td>13250</td>\n      <td>20300</td>\n      <td>Full Buy</td>\n      <td>19800</td>\n      <td>14350</td>\n      <td>13950</td>\n      <td>Semi Buy</td>\n    </tr>\n    <tr>\n      <th>15</th>\n      <td>16</td>\n      <td>OG-NaVi-BLAST2020</td>\n      <td>de_dust2</td>\n      <td>259186</td>\n      <td>284731</td>\n      <td>294222</td>\n      <td>294862</td>\n      <td>9</td>\n      <td>6</td>\n      <td>9</td>\n      <td>...</td>\n      <td>76561198044045107</td>\n      <td>MVPReasonBombPlanted</td>\n      <td>4400</td>\n      <td>1000</td>\n      <td>3400</td>\n      <td>Full Eco</td>\n      <td>4400</td>\n      <td>1000</td>\n      <td>3400</td>\n      <td>Full Eco</td>\n    </tr>\n    <tr>\n      <th>16</th>\n      <td>17</td>\n      <td>OG-NaVi-BLAST2020</td>\n      <td>de_dust2</td>\n      <td>294862</td>\n      <td>302843</td>\n      <td>318046</td>\n      <td>318686</td>\n      <td>9</td>\n      <td>7</td>\n      <td>10</td>\n      <td>...</td>\n      <td>76561198016432560</td>\n      <td>MVPReasonMostEliminations</td>\n      <td>19350</td>\n      <td>2050</td>\n      <td>19050</td>\n      <td>Semi Buy</td>\n      <td>16200</td>\n      <td>1000</td>\n      <td>15200</td>\n      <td>Semi Buy</td>\n    </tr>\n    <tr>\n      <th>17</th>\n      <td>18</td>\n      <td>OG-NaVi-BLAST2020</td>\n      <td>de_dust2</td>\n      <td>318686</td>\n      <td>321246</td>\n      <td>338574</td>\n      <td>339215</td>\n      <td>10</td>\n      <td>7</td>\n      <td>11</td>\n      <td>...</td>\n      <td>76561197960710573</td>\n      <td>MVPReasonMostEliminations</td>\n      <td>6400</td>\n      <td>1000</td>\n      <td>8950</td>\n      <td>Semi Eco</td>\n      <td>25550</td>\n      <td>9550</td>\n      <td>16600</td>\n      <td>Full Buy</td>\n    </tr>\n    <tr>\n      <th>18</th>\n      <td>19</td>\n      <td>OG-NaVi-BLAST2020</td>\n      <td>de_dust2</td>\n      <td>339215</td>\n      <td>341775</td>\n      <td>345980</td>\n      <td>346620</td>\n      <td>11</td>\n      <td>7</td>\n      <td>12</td>\n      <td>...</td>\n      <td>76561197960710573</td>\n      <td>MVPReasonMostEliminations</td>\n      <td>1100</td>\n      <td>1000</td>\n      <td>1000</td>\n      <td>Full Eco</td>\n      <td>23800</td>\n      <td>7550</td>\n      <td>16250</td>\n      <td>Full Buy</td>\n    </tr>\n    <tr>\n      <th>19</th>\n      <td>20</td>\n      <td>OG-NaVi-BLAST2020</td>\n      <td>de_dust2</td>\n      <td>346620</td>\n      <td>349180</td>\n      <td>363326</td>\n      <td>363966</td>\n      <td>12</td>\n      <td>7</td>\n      <td>13</td>\n      <td>...</td>\n      <td>76561198013243326</td>\n      <td>MVPReasonBombDefused</td>\n      <td>21200</td>\n      <td>1000</td>\n      <td>21200</td>\n      <td>Full Buy</td>\n      <td>26650</td>\n      <td>20050</td>\n      <td>6600</td>\n      <td>Full Buy</td>\n    </tr>\n    <tr>\n      <th>20</th>\n      <td>21</td>\n      <td>OG-NaVi-BLAST2020</td>\n      <td>de_dust2</td>\n      <td>363966</td>\n      <td>371281</td>\n      <td>389308</td>\n      <td>389948</td>\n      <td>13</td>\n      <td>7</td>\n      <td>14</td>\n      <td>...</td>\n      <td>76561198016432560</td>\n      <td>MVPReasonBombDefused</td>\n      <td>10600</td>\n      <td>8150</td>\n      <td>3850</td>\n      <td>Semi Buy</td>\n      <td>27150</td>\n      <td>18550</td>\n      <td>8950</td>\n      <td>Full Buy</td>\n    </tr>\n    <tr>\n      <th>21</th>\n      <td>22</td>\n      <td>OG-NaVi-BLAST2020</td>\n      <td>de_dust2</td>\n      <td>389948</td>\n      <td>392508</td>\n      <td>409961</td>\n      <td>410601</td>\n      <td>14</td>\n      <td>7</td>\n      <td>14</td>\n      <td>...</td>\n      <td>76561198146207066</td>\n      <td>MVPReasonBombPlanted</td>\n      <td>29250</td>\n      <td>6050</td>\n      <td>25450</td>\n      <td>Full Buy</td>\n      <td>27050</td>\n      <td>14150</td>\n      <td>12900</td>\n      <td>Full Buy</td>\n    </tr>\n    <tr>\n      <th>22</th>\n      <td>23</td>\n      <td>OG-NaVi-BLAST2020</td>\n      <td>de_dust2</td>\n      <td>410601</td>\n      <td>418300</td>\n      <td>428659</td>\n      <td>429300</td>\n      <td>14</td>\n      <td>8</td>\n      <td>14</td>\n      <td>...</td>\n      <td>76561198146207066</td>\n      <td>MVPReasonMostEliminations</td>\n      <td>30900</td>\n      <td>16100</td>\n      <td>14800</td>\n      <td>Full Buy</td>\n      <td>27150</td>\n      <td>6750</td>\n      <td>20600</td>\n      <td>Full Buy</td>\n    </tr>\n    <tr>\n      <th>23</th>\n      <td>24</td>\n      <td>OG-NaVi-BLAST2020</td>\n      <td>de_dust2</td>\n      <td>429300</td>\n      <td>431860</td>\n      <td>440847</td>\n      <td>441487</td>\n      <td>14</td>\n      <td>9</td>\n      <td>15</td>\n      <td>...</td>\n      <td>76561198037812456</td>\n      <td>MVPReasonBombDefused</td>\n      <td>27650</td>\n      <td>5900</td>\n      <td>22850</td>\n      <td>Full Buy</td>\n      <td>24300</td>\n      <td>1000</td>\n      <td>23300</td>\n      <td>Full Buy</td>\n    </tr>\n    <tr>\n      <th>24</th>\n      <td>25</td>\n      <td>OG-NaVi-BLAST2020</td>\n      <td>de_dust2</td>\n      <td>441487</td>\n      <td>448917</td>\n      <td>458546</td>\n      <td>459186</td>\n      <td>15</td>\n      <td>9</td>\n      <td>16</td>\n      <td>...</td>\n      <td>76561198114929868</td>\n      <td>MVPReasonMostEliminations</td>\n      <td>27550</td>\n      <td>15850</td>\n      <td>11700</td>\n      <td>Full Buy</td>\n      <td>27050</td>\n      <td>18350</td>\n      <td>8700</td>\n      <td>Full Buy</td>\n    </tr>\n  </tbody>\n</table>\n<p>25 rows × 28 columns</p>\n</div>"
     },
     "execution_count": 13,
     "metadata": {},
     "output_type": "execute_result"
    }
   ],
   "source": [
    "df[\"rounds\"]"
   ],
   "metadata": {
    "collapsed": false,
    "ExecuteTime": {
     "end_time": "2023-06-20T18:57:26.672390Z",
     "start_time": "2023-06-20T18:57:26.668856700Z"
    }
   }
  }
 ],
 "metadata": {
  "kernelspec": {
   "display_name": "Python 3 (ipykernel)",
   "language": "python",
   "name": "python3"
  },
  "language_info": {
   "codemirror_mode": {
    "name": "ipython",
    "version": 3
   },
   "file_extension": ".py",
   "mimetype": "text/x-python",
   "name": "python",
   "nbconvert_exporter": "python",
   "pygments_lexer": "ipython3",
   "version": "3.11.0"
  }
 },
 "nbformat": 4,
 "nbformat_minor": 4
}
