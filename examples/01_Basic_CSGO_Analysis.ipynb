{
 "cells": [
  {
   "cell_type": "markdown",
   "metadata": {},
   "source": [
    "# Basic CSGO Analysis\n",
    "##### *Last Updated: June 20, 2023*\n",
    "The awpy package was developed with easy analysis in mind. To start, a user must first parse the demofile, which gives information on player actions ([Parsing a CSGO demofile](https://github.com/pnxenopoulos/awpy/blob/master/examples/00_Parsing_a_CSGO_Demofile.ipynb)). However, we often want to calculate statistics for a player or team from a demofile. Thus, we provide the `awpy.analytics.stats` module.\n",
    "\n",
    "\n",
    "Below, we reference the [demofile](https://www.hltv.org/matches/2337844/astralis-vs-liquid-blast-pro-series-global-final-2019) for a match between Astralis and Team Liquid, where we look at the second map of the series, `de_nuke`."
   ]
  },
  {
   "cell_type": "code",
   "execution_count": 1,
   "metadata": {
    "ExecuteTime": {
     "end_time": "2023-06-20T19:02:34.127114300Z",
     "start_time": "2023-06-20T19:02:25.138427300Z"
    }
   },
   "outputs": [
    {
     "name": "stderr",
     "output_type": "stream",
     "text": [
      "parse_frames is set to False, must be true for remove_no_frames to work. Skipping remove_no_frames.\n",
      "parse_frames is set to False, must be true for remove_excess_players to work. Skipping remove_excess_players.\n"
     ]
    }
   ],
   "source": [
    "from awpy.parser import DemoParser\n",
    "\n",
    "# Create the parser object.\n",
    "parser = DemoParser(\n",
    "    demofile = \"astralis-vs-liquid-m2-nuke.dem\", \n",
    "    demo_id = \"AST-TL-BLAST2019-nuke\", \n",
    "    parse_frames=False, \n",
    ")\n",
    "# Parse the demofile, output results to a dictionary of dataframes.\n",
    "data = parser.parse() "
   ]
  },
  {
   "cell_type": "markdown",
   "metadata": {},
   "source": [
    "# `player_stats`\n",
    "\n",
    "`player_stats(game_rounds, return_type=\"json\")` is the base stats function. Given a list of rounds, it calculates each player's statistics, such as kills, ADR, KAST%, and Rating, to name a few."
   ]
  },
  {
   "cell_type": "code",
   "execution_count": 2,
   "metadata": {
    "ExecuteTime": {
     "end_time": "2023-06-20T19:02:34.147738Z",
     "start_time": "2023-06-20T19:02:34.129517600Z"
    }
   },
   "outputs": [
    {
     "data": {
      "text/plain": "{'steamID': 76561197999004010,\n 'playerName': 'Stewie2K',\n 'teamName': 'Team Liquid',\n 'isBot': False,\n 'totalRounds': 28,\n 'kills': 17,\n 'deaths': 20,\n 'kdr': 0.85,\n 'assists': 6,\n 'tradeKills': 1,\n 'tradedDeaths': 1,\n 'teamKills': 0,\n 'suicides': 0,\n 'flashAssists': 0,\n 'totalDamageGiven': 2326,\n 'totalDamageTaken': 2118,\n 'totalTeamDamageGiven': 0,\n 'adr': 83.1,\n 'totalShots': 284,\n 'shotsHit': 61,\n 'accuracy': 0.21,\n 'rating': 0.99,\n 'kast': 67.9,\n 'hs': 10,\n 'hsPercent': 0.59,\n 'firstKills': 2,\n 'firstDeaths': 3,\n 'utilityDamage': 121,\n 'smokesThrown': 17,\n 'flashesThrown': 7,\n 'heThrown': 6,\n 'fireThrown': 12,\n 'enemiesFlashed': 6,\n 'teammatesFlashed': 2,\n 'blindTime': 14.89,\n 'plants': 2,\n 'defuses': 0,\n 'kills0': 18,\n 'kills1': 4,\n 'kills2': 5,\n 'kills3': 1,\n 'kills4': 0,\n 'kills5': 0,\n 'attempts1v1': 0,\n 'success1v1': 0,\n 'attempts1v2': 0,\n 'success1v2': 0,\n 'attempts1v3': 0,\n 'success1v3': 0,\n 'attempts1v4': 0,\n 'success1v4': 0,\n 'attempts1v5': 0,\n 'success1v5': 0,\n 'mvp': 3}"
     },
     "execution_count": 2,
     "metadata": {},
     "output_type": "execute_result"
    }
   ],
   "source": [
    "from awpy.analytics.stats import player_stats\n",
    "\n",
    "player_stats_json = player_stats(data[\"gameRounds\"])\n",
    "player_stats_json['76561197999004010']"
   ]
  },
  {
   "cell_type": "code",
   "execution_count": 3,
   "metadata": {
    "ExecuteTime": {
     "end_time": "2023-06-20T19:02:34.175750200Z",
     "start_time": "2023-06-20T19:02:34.147738Z"
    }
   },
   "outputs": [
    {
     "data": {
      "text/plain": "             steamID playerName     teamName  isBot  totalRounds  kills  \\\n0  76561197983956651     Magisk     Astralis  False           28     16   \n1  76561197987713664     device     Astralis  False           28     23   \n2  76561198004854956    dupreeh     Astralis  False           28     17   \n3  76561198010511021     gla1ve     Astralis  False           28     17   \n4  76561197990682262      Xyp9x     Astralis  False           28     22   \n5  76561197995889730      nitr0  Team Liquid  False           28     19   \n6  76561198066693739      EliGE  Team Liquid  False           28     18   \n7  76561197999004010   Stewie2K  Team Liquid  False           28     17   \n8  76561198016255205    Twistzz  Team Liquid  False           28     13   \n9  76561198001151695        NAF  Team Liquid  False           28     17   \n\n   deaths   kdr  assists  tradeKills  ...  success1v1  attempts1v2  \\\n0      19  0.84        5           3  ...           0            0   \n1      17  1.35        2           5  ...           1            1   \n2      16  1.06        1           4  ...           0            1   \n3      16  1.06        8           2  ...           0            0   \n4      16  1.38        3           2  ...           2            0   \n5      17  1.12        1           4  ...           0            1   \n6      21  0.86        3           3  ...           1            1   \n7      20  0.85        6           1  ...           0            0   \n8      19  0.68        2           1  ...           1            2   \n9      19  0.89        0           2  ...           0            1   \n\n   success1v2  attempts1v3  success1v3  attempts1v4  success1v4  attempts1v5  \\\n0           0            0           0            0           0            0   \n1           0            1           0            1           0            1   \n2           0            1           0            0           0            0   \n3           0            0           0            0           0            0   \n4           0            0           0            0           0            5   \n5           0            0           0            2           0            2   \n6           0            0           0            1           0            0   \n7           0            0           0            0           0            0   \n8           0            2           0            0           0            2   \n9           0            0           0            2           0            0   \n\n   success1v5  mvp  \n0           0    1  \n1           0    4  \n2           0    4  \n3           0    3  \n4           0    4  \n5           0    3  \n6           0    2  \n7           0    3  \n8           0    2  \n9           0    2  \n\n[10 rows x 54 columns]",
      "text/html": "<div>\n<style scoped>\n    .dataframe tbody tr th:only-of-type {\n        vertical-align: middle;\n    }\n\n    .dataframe tbody tr th {\n        vertical-align: top;\n    }\n\n    .dataframe thead th {\n        text-align: right;\n    }\n</style>\n<table border=\"1\" class=\"dataframe\">\n  <thead>\n    <tr style=\"text-align: right;\">\n      <th></th>\n      <th>steamID</th>\n      <th>playerName</th>\n      <th>teamName</th>\n      <th>isBot</th>\n      <th>totalRounds</th>\n      <th>kills</th>\n      <th>deaths</th>\n      <th>kdr</th>\n      <th>assists</th>\n      <th>tradeKills</th>\n      <th>...</th>\n      <th>success1v1</th>\n      <th>attempts1v2</th>\n      <th>success1v2</th>\n      <th>attempts1v3</th>\n      <th>success1v3</th>\n      <th>attempts1v4</th>\n      <th>success1v4</th>\n      <th>attempts1v5</th>\n      <th>success1v5</th>\n      <th>mvp</th>\n    </tr>\n  </thead>\n  <tbody>\n    <tr>\n      <th>0</th>\n      <td>76561197983956651</td>\n      <td>Magisk</td>\n      <td>Astralis</td>\n      <td>False</td>\n      <td>28</td>\n      <td>16</td>\n      <td>19</td>\n      <td>0.84</td>\n      <td>5</td>\n      <td>3</td>\n      <td>...</td>\n      <td>0</td>\n      <td>0</td>\n      <td>0</td>\n      <td>0</td>\n      <td>0</td>\n      <td>0</td>\n      <td>0</td>\n      <td>0</td>\n      <td>0</td>\n      <td>1</td>\n    </tr>\n    <tr>\n      <th>1</th>\n      <td>76561197987713664</td>\n      <td>device</td>\n      <td>Astralis</td>\n      <td>False</td>\n      <td>28</td>\n      <td>23</td>\n      <td>17</td>\n      <td>1.35</td>\n      <td>2</td>\n      <td>5</td>\n      <td>...</td>\n      <td>1</td>\n      <td>1</td>\n      <td>0</td>\n      <td>1</td>\n      <td>0</td>\n      <td>1</td>\n      <td>0</td>\n      <td>1</td>\n      <td>0</td>\n      <td>4</td>\n    </tr>\n    <tr>\n      <th>2</th>\n      <td>76561198004854956</td>\n      <td>dupreeh</td>\n      <td>Astralis</td>\n      <td>False</td>\n      <td>28</td>\n      <td>17</td>\n      <td>16</td>\n      <td>1.06</td>\n      <td>1</td>\n      <td>4</td>\n      <td>...</td>\n      <td>0</td>\n      <td>1</td>\n      <td>0</td>\n      <td>1</td>\n      <td>0</td>\n      <td>0</td>\n      <td>0</td>\n      <td>0</td>\n      <td>0</td>\n      <td>4</td>\n    </tr>\n    <tr>\n      <th>3</th>\n      <td>76561198010511021</td>\n      <td>gla1ve</td>\n      <td>Astralis</td>\n      <td>False</td>\n      <td>28</td>\n      <td>17</td>\n      <td>16</td>\n      <td>1.06</td>\n      <td>8</td>\n      <td>2</td>\n      <td>...</td>\n      <td>0</td>\n      <td>0</td>\n      <td>0</td>\n      <td>0</td>\n      <td>0</td>\n      <td>0</td>\n      <td>0</td>\n      <td>0</td>\n      <td>0</td>\n      <td>3</td>\n    </tr>\n    <tr>\n      <th>4</th>\n      <td>76561197990682262</td>\n      <td>Xyp9x</td>\n      <td>Astralis</td>\n      <td>False</td>\n      <td>28</td>\n      <td>22</td>\n      <td>16</td>\n      <td>1.38</td>\n      <td>3</td>\n      <td>2</td>\n      <td>...</td>\n      <td>2</td>\n      <td>0</td>\n      <td>0</td>\n      <td>0</td>\n      <td>0</td>\n      <td>0</td>\n      <td>0</td>\n      <td>5</td>\n      <td>0</td>\n      <td>4</td>\n    </tr>\n    <tr>\n      <th>5</th>\n      <td>76561197995889730</td>\n      <td>nitr0</td>\n      <td>Team Liquid</td>\n      <td>False</td>\n      <td>28</td>\n      <td>19</td>\n      <td>17</td>\n      <td>1.12</td>\n      <td>1</td>\n      <td>4</td>\n      <td>...</td>\n      <td>0</td>\n      <td>1</td>\n      <td>0</td>\n      <td>0</td>\n      <td>0</td>\n      <td>2</td>\n      <td>0</td>\n      <td>2</td>\n      <td>0</td>\n      <td>3</td>\n    </tr>\n    <tr>\n      <th>6</th>\n      <td>76561198066693739</td>\n      <td>EliGE</td>\n      <td>Team Liquid</td>\n      <td>False</td>\n      <td>28</td>\n      <td>18</td>\n      <td>21</td>\n      <td>0.86</td>\n      <td>3</td>\n      <td>3</td>\n      <td>...</td>\n      <td>1</td>\n      <td>1</td>\n      <td>0</td>\n      <td>0</td>\n      <td>0</td>\n      <td>1</td>\n      <td>0</td>\n      <td>0</td>\n      <td>0</td>\n      <td>2</td>\n    </tr>\n    <tr>\n      <th>7</th>\n      <td>76561197999004010</td>\n      <td>Stewie2K</td>\n      <td>Team Liquid</td>\n      <td>False</td>\n      <td>28</td>\n      <td>17</td>\n      <td>20</td>\n      <td>0.85</td>\n      <td>6</td>\n      <td>1</td>\n      <td>...</td>\n      <td>0</td>\n      <td>0</td>\n      <td>0</td>\n      <td>0</td>\n      <td>0</td>\n      <td>0</td>\n      <td>0</td>\n      <td>0</td>\n      <td>0</td>\n      <td>3</td>\n    </tr>\n    <tr>\n      <th>8</th>\n      <td>76561198016255205</td>\n      <td>Twistzz</td>\n      <td>Team Liquid</td>\n      <td>False</td>\n      <td>28</td>\n      <td>13</td>\n      <td>19</td>\n      <td>0.68</td>\n      <td>2</td>\n      <td>1</td>\n      <td>...</td>\n      <td>1</td>\n      <td>2</td>\n      <td>0</td>\n      <td>2</td>\n      <td>0</td>\n      <td>0</td>\n      <td>0</td>\n      <td>2</td>\n      <td>0</td>\n      <td>2</td>\n    </tr>\n    <tr>\n      <th>9</th>\n      <td>76561198001151695</td>\n      <td>NAF</td>\n      <td>Team Liquid</td>\n      <td>False</td>\n      <td>28</td>\n      <td>17</td>\n      <td>19</td>\n      <td>0.89</td>\n      <td>0</td>\n      <td>2</td>\n      <td>...</td>\n      <td>0</td>\n      <td>1</td>\n      <td>0</td>\n      <td>0</td>\n      <td>0</td>\n      <td>2</td>\n      <td>0</td>\n      <td>0</td>\n      <td>0</td>\n      <td>2</td>\n    </tr>\n  </tbody>\n</table>\n<p>10 rows × 54 columns</p>\n</div>"
     },
     "execution_count": 3,
     "metadata": {},
     "output_type": "execute_result"
    }
   ],
   "source": [
    "from awpy.analytics.stats import player_stats\n",
    "\n",
    "player_stats_df = player_stats(data[\"gameRounds\"], return_type=\"df\")\n",
    "player_stats_df"
   ]
  }
 ],
 "metadata": {
  "kernelspec": {
   "display_name": "Python 3 (ipykernel)",
   "language": "python",
   "name": "python3"
  },
  "language_info": {
   "codemirror_mode": {
    "name": "ipython",
    "version": 3
   },
   "file_extension": ".py",
   "mimetype": "text/x-python",
   "name": "python",
   "nbconvert_exporter": "python",
   "pygments_lexer": "ipython3",
   "version": "3.10.5"
  }
 },
 "nbformat": 4,
 "nbformat_minor": 4
}
